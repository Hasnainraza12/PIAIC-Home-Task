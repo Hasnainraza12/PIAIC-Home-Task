{
 "cells": [
  {
   "cell_type": "markdown",
   "metadata": {},
   "source": [
    "# STRING AND LIST METHODS AND ATTRIBUTES"
   ]
  },
  {
   "cell_type": "code",
   "execution_count": 1,
   "metadata": {},
   "outputs": [
    {
     "name": "stdout",
     "output_type": "stream",
     "text": [
      "Saylani\n",
      "<class 'str'>\n"
     ]
    }
   ],
   "source": [
    "a=\"Saylani\"\n",
    "print(a)\n",
    "print(type(a))"
   ]
  },
  {
   "cell_type": "code",
   "execution_count": 2,
   "metadata": {},
   "outputs": [
    {
     "data": {
      "text/plain": [
       "'saYlanI welFare trUst'"
      ]
     },
     "execution_count": 2,
     "metadata": {},
     "output_type": "execute_result"
    }
   ],
   "source": [
    "a=\"saYlanI welFare trUst\"\n",
    "a"
   ]
  },
  {
   "cell_type": "code",
   "execution_count": 3,
   "metadata": {},
   "outputs": [
    {
     "data": {
      "text/plain": [
       "'Saylani welfare trust'"
      ]
     },
     "execution_count": 3,
     "metadata": {},
     "output_type": "execute_result"
    }
   ],
   "source": [
    "a.capitalize()"
   ]
  },
  {
   "cell_type": "code",
   "execution_count": 4,
   "metadata": {},
   "outputs": [
    {
     "data": {
      "text/plain": [
       "'SAYLANI WELFARE TRUST'"
      ]
     },
     "execution_count": 4,
     "metadata": {},
     "output_type": "execute_result"
    }
   ],
   "source": [
    "a.upper()"
   ]
  },
  {
   "cell_type": "code",
   "execution_count": 5,
   "metadata": {},
   "outputs": [
    {
     "data": {
      "text/plain": [
       "'Saylani Welfare Trust'"
      ]
     },
     "execution_count": 5,
     "metadata": {},
     "output_type": "execute_result"
    }
   ],
   "source": [
    "a.title()"
   ]
  },
  {
   "cell_type": "code",
   "execution_count": 6,
   "metadata": {},
   "outputs": [
    {
     "data": {
      "text/plain": [
       "'saylani welfare trust'"
      ]
     },
     "execution_count": 6,
     "metadata": {},
     "output_type": "execute_result"
    }
   ],
   "source": [
    "a.lower()"
   ]
  },
  {
   "cell_type": "code",
   "execution_count": 7,
   "metadata": {},
   "outputs": [
    {
     "name": "stdout",
     "output_type": "stream",
     "text": [
      "\n",
      "Muhammad Hasnain Raza\n",
      "Muhammad Saleem\n",
      "age 20\n",
      "\n"
     ]
    }
   ],
   "source": [
    "abc=\"\"\"\n",
    "Muhammad Hasnain Raza\n",
    "Muhammad Saleem\n",
    "age 20\n",
    "\"\"\"\n",
    "print(abc)"
   ]
  },
  {
   "cell_type": "code",
   "execution_count": 9,
   "metadata": {},
   "outputs": [
    {
     "name": "stdout",
     "output_type": "stream",
     "text": [
      "\n",
      "Saylani Welfare Trust\n",
      "City: Karachi\n",
      "Country: Pakistan\n",
      "\n"
     ]
    }
   ],
   "source": [
    "abc='''\n",
    "Saylani Welfare Trust\n",
    "City: Karachi\n",
    "Country: Pakistan\n",
    "'''\n",
    "print(abc)"
   ]
  },
  {
   "cell_type": "code",
   "execution_count": 10,
   "metadata": {},
   "outputs": [
    {
     "name": "stdout",
     "output_type": "stream",
     "text": [
      "\n",
      "***** **PIAIC********\n",
      "Saylani Welfer Trust\n",
      "Name: Muhammad Hasnain Raza\n",
      "Father's Name: Muhammad Saleem\n",
      "age: 20\n",
      "\n"
     ]
    }
   ],
   "source": [
    "abc=\"\"\"\n",
    "***** **PIAIC********\n",
    "Saylani Welfer Trust\n",
    "Name: Muhammad Hasnain Raza\n",
    "Father's Name: Muhammad Saleem\n",
    "age: 20\n",
    "\"\"\"\n",
    "\n",
    "print(abc)"
   ]
  },
  {
   "cell_type": "code",
   "execution_count": 27,
   "metadata": {},
   "outputs": [
    {
     "name": "stdout",
     "output_type": "stream",
     "text": [
      "\n",
      "*******PIAIC*******\n",
      "Saylani Welfer Trust\n",
      "Name: Muhammad Hasnain Raza\n",
      "Father's Name: Muhammad Saleem\n",
      "My age: 21\n",
      "\n"
     ]
    }
   ],
   "source": [
    "name= \"Muhammad Hasnain Raza\"\n",
    "father_name= \"Muhammad Saleem\"\n",
    "my_age= \"21\"\n",
    "abc = \"\"\"\n",
    "*******PIAIC*******\n",
    "Saylani Welfer Trust\n",
    "Name: {}\n",
    "Father's Name: {}\n",
    "My age: {}\n",
    "\"\"\"\n",
    "print(abc.format(name, father_name, my_age))\n"
   ]
  },
  {
   "cell_type": "code",
   "execution_count": 29,
   "metadata": {},
   "outputs": [
    {
     "name": "stdout",
     "output_type": "stream",
     "text": [
      "Enter Your Name:Muhammad Hasnain Raza\n"
     ]
    },
    {
     "data": {
      "text/plain": [
       "'Muhammad Hasnain Raza'"
      ]
     },
     "execution_count": 29,
     "metadata": {},
     "output_type": "execute_result"
    }
   ],
   "source": [
    "a=input(\"Enter Your Name:\")\n",
    "a"
   ]
  },
  {
   "cell_type": "code",
   "execution_count": 30,
   "metadata": {},
   "outputs": [
    {
     "name": "stdout",
     "output_type": "stream",
     "text": [
      "Enter Your Name:Muhammad Hasnain Raza\n",
      "Enter Your Father's Name:Muhammad Saleem\n",
      "Enter Your Age:20\n",
      "\n",
      "******PIAIC******\n",
      "Saylani Welfare Trust\n",
      "Name: Muhammad Hasnain Raza\n",
      "Father Name: Muhammad Saleem\n",
      "My age: 20\n",
      "\n"
     ]
    }
   ],
   "source": [
    "name= input(\"Enter Your Name:\")\n",
    "father_name= input(\"Enter Your Father's Name:\")\n",
    "age= input(\"Enter Your Age:\")\n",
    "\n",
    "abc = \"\"\"\n",
    "******PIAIC******\n",
    "Saylani Welfare Trust\n",
    "Name: {}\n",
    "Father Name: {}\n",
    "My age: {}\n",
    "\"\"\"\n",
    "print(abc.format(name, father_name, age))"
   ]
  },
  {
   "cell_type": "code",
   "execution_count": 32,
   "metadata": {},
   "outputs": [
    {
     "data": {
      "text/plain": [
       "'SaylaniWelfareTrust'"
      ]
     },
     "execution_count": 32,
     "metadata": {},
     "output_type": "execute_result"
    }
   ],
   "source": [
    "a = \"Saylani\"\n",
    "b = \"Welfare\"\n",
    "c = \"Trust\"\n",
    "a + b + c #concatinact"
   ]
  },
  {
   "cell_type": "code",
   "execution_count": null,
   "metadata": {},
   "outputs": [],
   "source": []
  }
 ],
 "metadata": {
  "kernelspec": {
   "display_name": "Python 3",
   "language": "python",
   "name": "python3"
  },
  "language_info": {
   "codemirror_mode": {
    "name": "ipython",
    "version": 3
   },
   "file_extension": ".py",
   "mimetype": "text/x-python",
   "name": "python",
   "nbconvert_exporter": "python",
   "pygments_lexer": "ipython3",
   "version": "3.7.3"
  }
 },
 "nbformat": 4,
 "nbformat_minor": 2
}
